{
 "cells": [
  {
   "cell_type": "markdown",
   "metadata": {
    "id": "meTIvfvNcSoI"
   },
   "source": [
    "# Lab : Text pre-processing and features"
   ]
  },
  {
   "cell_type": "markdown",
   "metadata": {
    "id": "qI3EhZyEcSoJ"
   },
   "source": [
    "## Objectives\n",
    "\n",
    "1. Implement a simple way to represent text data - Bag of words / TF-IDF\n",
    "2. Use pre-processing tools from Natural Language Processing\n"
   ]
  },
  {
   "cell_type": "markdown",
   "metadata": {},
   "source": [
    "## Julian Singer"
   ]
  },
  {
   "cell_type": "markdown",
   "metadata": {
    "id": "v90rhBLbcSoM"
   },
   "source": [
    "## Necessary dependancies\n",
    "\n",
    "We will need the following packages:\n",
    "- The Machine Learning API Scikit-learn : http://scikit-learn.org/stable/install.html\n",
    "- The Natural Language Toolkit : http://www.nltk.org/install.html\n",
    "\n",
    "Both are available with Anaconda: https://anaconda.org/anaconda/nltk and https://anaconda.org/anaconda/scikit-learn"
   ]
  },
  {
   "cell_type": "code",
   "execution_count": 1,
   "metadata": {
    "colab": {
     "base_uri": "https://localhost:8080/"
    },
    "id": "0sIe8IgIcSoN",
    "outputId": "9bbdf183-58b5-47f7-fc7f-c599b2233b17"
   },
   "outputs": [
    {
     "name": "stderr",
     "output_type": "stream",
     "text": [
      "[nltk_data] Downloading package punkt to\n",
      "[nltk_data]     /Users/juliansinger/nltk_data...\n",
      "[nltk_data]   Package punkt is already up-to-date!\n"
     ]
    },
    {
     "data": {
      "text/plain": [
       "True"
      ]
     },
     "execution_count": 1,
     "metadata": {},
     "output_type": "execute_result"
    }
   ],
   "source": [
    "import os.path as op\n",
    "import re\n",
    "import numpy as np\n",
    "import matplotlib.pyplot as plt\n",
    "#%pip install nltk\n",
    "import nltk\n",
    "nltk.download('punkt')\n"
   ]
  },
  {
   "cell_type": "markdown",
   "metadata": {
    "id": "BNdAPEc-cSoO"
   },
   "source": [
    "## Pre-processing and representing documents\n",
    "\n",
    "### I.1 Adapted representation of documents\n",
    "\n",
    "Our statistical model, like most models applied to textual data, uses counts of word occurrences in a document. Thus, a very convenient way to represent a document is to use a Bag-of-Words (BoW) vector, containing the counts of each word (regardless of their order of occurrence) in the document.\n",
    "\n",
    "If we consider the set of all the words appearing in our $T$ training documents, which we note $V$ (Vocabulary), we can create **an index**, which is a bijection associating to each $w$ word an integer, which will be its position in $V$.\n",
    "\n",
    "Thus, for a document extracted from a set of documents containing $|V|$ different words, a BoW representation will be a vector of size $|V|$, whose value at the index of a word $w$ will be its number of occurrences in the document.\n",
    "\n",
    "We can use the **CountVectorizer** class from scikit-learn to obtain these representations:"
   ]
  },
  {
   "cell_type": "code",
   "execution_count": 2,
   "metadata": {
    "id": "lCdQU2vMcSoP"
   },
   "outputs": [],
   "source": [
    "from sklearn.feature_extraction.text import CountVectorizer"
   ]
  },
  {
   "cell_type": "code",
   "execution_count": 3,
   "metadata": {
    "colab": {
     "base_uri": "https://localhost:8080/"
    },
    "id": "hjvwNgf0cSoT",
    "outputId": "8960d36f-0d3a-48ee-9880-f72c7d020a4d"
   },
   "outputs": [
    {
     "name": "stdout",
     "output_type": "stream",
     "text": [
      "['avenue' 'boulevard' 'city' 'down' 'ran' 'the' 'walk' 'walked']\n"
     ]
    },
    {
     "data": {
      "text/plain": [
       "array([[0, 1, 0, 2, 0, 1, 0, 1],\n",
       "       [1, 0, 0, 1, 0, 1, 0, 1],\n",
       "       [0, 1, 0, 1, 1, 1, 0, 0],\n",
       "       [0, 0, 1, 1, 0, 1, 1, 0],\n",
       "       [1, 0, 0, 1, 0, 2, 1, 0]])"
      ]
     },
     "execution_count": 3,
     "metadata": {},
     "output_type": "execute_result"
    }
   ],
   "source": [
    "corpus = ['I walked down down the boulevard',\n",
    "          'I walked down the avenue',\n",
    "          'I ran down the boulevard',\n",
    "          'I walk down the city',\n",
    "          'I walk down the the avenue']\n",
    "\n",
    "vectorizer = CountVectorizer()\n",
    "\n",
    "Bow = vectorizer.fit_transform(corpus)\n",
    "\n",
    "print(vectorizer.get_feature_names_out())\n",
    "Bow.toarray()"
   ]
  },
  {
   "cell_type": "markdown",
   "metadata": {
    "id": "EGkAjNd8cSoU"
   },
   "source": [
    "We display the list containing the words ordered according to their index (Note that words of 2 characters or less are not counted)."
   ]
  },
  {
   "cell_type": "markdown",
   "metadata": {
    "id": "lHqLHYSIcSoV"
   },
   "source": [
    "#### Getting BoW representations\n",
    "\n",
    "The first thing to do is to turn the review from a string into a list of words. The simplest method is to divide the string according to spaces with the command:\n",
    "``text.split()``\n",
    "\n",
    "But we must also be careful to remove special characters that may not have been cleaned up (such as HTML tags if the data was obtained from web pages). Since we're going to count words, we'll have to build a list of tokens appearing in our data. In our case, we'd like to reduce this list and make it uniform (ignore capitalization, punctuation, and the shortest words).\n",
    "We will therefore use a function adapted to our needs - but this is a job that we generally don't need to do ourselves, since there are many tools already adapted to most situations.\n",
    "For text cleansing, there are many scripts, based on different tools (regular expressions, for example) that allow you to prepare data. The division of the text into words and the management of punctuation is handled in a step called *tokenization*; if needed, a python package like NLTK contains many different *tokenizers*."
   ]
  },
  {
   "cell_type": "code",
   "execution_count": 4,
   "metadata": {
    "colab": {
     "base_uri": "https://localhost:8080/"
    },
    "id": "CgnAfSrXcSoV",
    "outputId": "f663ed85-b0e5-4c9d-fd33-43dc7eef2855"
   },
   "outputs": [
    {
     "name": "stdout",
     "output_type": "stream",
     "text": [
      "['walked', 'down', 'down', 'the', 'boulevard', 'walked', 'down', 'the', 'avenue', 'ran', 'down', 'the', 'boulevard', 'walk', 'down', 'the', 'city', 'walk', 'down', 'the', 'the', 'avenue']\n",
      "['I', 'walked', 'down', 'down', 'the', 'boulevard', '.', 'I', 'walked', 'down', 'the', 'avenue', '.', 'I', 'ran', 'down', 'the', 'boulevard', '.', 'I', 'walk', 'down', 'the', 'city', '.', 'I', 'walk', 'down', 'the', 'the', 'avenue', '.']\n"
     ]
    }
   ],
   "source": [
    "# We might want to clean the file with various strategies:\n",
    "def clean_and_tokenize(text):\n",
    "    \"\"\"\n",
    "    Cleaning a document with:\n",
    "        - Lowercase\n",
    "        - Removing numbers with regular expressions\n",
    "        - Removing punctuation with regular expressions\n",
    "        - Removing other artifacts\n",
    "    And separate the document into words by simply splitting at spaces\n",
    "    Params:\n",
    "        text (string): a sentence or a document\n",
    "    Returns:\n",
    "        tokens (list of strings): the list of tokens (word units) forming the document\n",
    "    \"\"\"\n",
    "    # Lowercase\n",
    "    text = text.lower()\n",
    "    # Remove numbers\n",
    "    text = re.sub(r\"[0-9]+\", \"\", text)\n",
    "    # Remove punctuation\n",
    "    REMOVE_PUNCT = re.compile(\"[.;:!\\'?,\\\"()\\[\\]]\")\n",
    "    text = REMOVE_PUNCT.sub(\"\", text)\n",
    "    # Remove small words (1 and 2 characters)\n",
    "    text = re.sub(r\"\\b\\w{1,2}\\b\", \"\", text)\n",
    "    # Remove HTML artifacts specific to the corpus we're going to work with\n",
    "    REPLACE_HTML = re.compile(\"(<br\\s*/><br\\s*/>)|(\\-)|(\\/)\")\n",
    "    text = REPLACE_HTML.sub(\" \", text)\n",
    "\n",
    "    tokens = text.split()\n",
    "    return tokens\n",
    "\n",
    "# Or we might want to use an already-implemented tool. The NLTK package has a lot of very useful text processing tools, among them various tokenizers\n",
    "# Careful, NLTK was the first well-documented NLP package, but it might be outdated for some uses. Check the documentation !\n",
    "from nltk.tokenize import word_tokenize\n",
    "\n",
    "corpus_raw = \"I walked down down the boulevard. I walked down the avenue. I ran down the boulevard. I walk down the city. I walk down the the avenue.\"\n",
    "print(clean_and_tokenize(corpus_raw))\n",
    "print(word_tokenize(corpus_raw))"
   ]
  },
  {
   "cell_type": "markdown",
   "metadata": {
    "id": "n1l4PPRrcSoX"
   },
   "source": [
    "The next function takes as input a list of documents (each in the form of a string) and returns, as in the example using ``CountVectorizer``:\n",
    "- A vocabulary that associates, to each word encountered, an index\n",
    "- A matrix, with rows representing documents and columns representing words indexed by the vocabulary. In position $(i,j)$, one should have the number of occurrences of the word $j$ in the document $i$.\n",
    "\n",
    "The vocabulary, which was in the form of a *list* in the previous example, can be returned in the form of a *dictionary* whose keys are the words and values are the indices. Since the vocabulary lists the words in the corpus without worrying about their number of occurrences, it can be built up using a set (in python)."
   ]
  },
  {
   "cell_type": "code",
   "execution_count": 5,
   "metadata": {
    "id": "4HAm1CnTcSoX"
   },
   "outputs": [],
   "source": [
    "# a dictionary taht for each word contains an index number\n",
    "#the second output is word and freq\n",
    "#for this one give a number to the word, the column corresponding to the word in the metrics\n",
    "#so the index that sorresponds to each word in this dic is the position it should be tracked in the count function\n",
    "\n",
    "#count threshold eliminates words that dont appear more than it\n",
    "#voc threshold is to determine the max number of words considered\n",
    "\n",
    "def vocabulary(texts, count_threshold=1, voc_threshold=0):\n",
    "    \"\"\"\n",
    "    Function using word counts to build a vocabulary - can be improved with a second parameter for\n",
    "    setting a frequency threshold\n",
    "    Params:\n",
    "        corpus (list of list of strings): corpus of sentences\n",
    "        count_threshold (int): number of occurences necessary for a word to be included in the vocabulary\n",
    "        voc_threshold (int): maximum size of the vocabulary\n",
    "    Returns:\n",
    "        vocabulary (dictionary): keys: list of distinct words across the corpus\n",
    "                                 values: indexes corresponding to each word sorted by frequency\n",
    "    \"\"\"\n",
    "    word_counts = {}\n",
    "    for sentence in texts:\n",
    "      #print(sentence)\n",
    "      words = sentence.split()\n",
    "      for word in words:\n",
    "        #print(word)\n",
    "        word_counts[word] = word_counts.get(word, 0) + 1\n",
    "    filtered_word_counts = {word: count for word, count in word_counts.items() if count >= count_threshold}\n",
    "    words2 = sorted(filtered_word_counts.keys(), key=word_counts.get, reverse=True)\n",
    "    # We add a specific token to be able to represent new words when working on validation / testing !\n",
    "    if voc_threshold > 0:\n",
    "        words2 = words2[:voc_threshold] + ['UNK']\n",
    "    else:\n",
    "        words2 = words2 + ['UNK']\n",
    "    vocabulary = {word: index for index, word in enumerate(words2)}\n",
    "    return vocabulary, {word: filtered_word_counts.get(word, 0) for word in vocabulary}"
   ]
  },
  {
   "cell_type": "code",
   "execution_count": 6,
   "metadata": {
    "colab": {
     "base_uri": "https://localhost:8080/"
    },
    "id": "4hZw6sRpcSoY",
    "outputId": "b20c7680-1144-436f-cd38-e6f80ceffe07"
   },
   "outputs": [
    {
     "name": "stdout",
     "output_type": "stream",
     "text": [
      "{'down': 0, 'the': 1, 'I': 2, 'walked': 3, 'boulevard': 4, 'avenue': 5, 'walk': 6, 'ran': 7, 'city': 8, 'UNK': 9}\n"
     ]
    }
   ],
   "source": [
    "voc, _ = vocabulary(corpus, count_threshold = 0)\n",
    "print(voc)"
   ]
  },
  {
   "cell_type": "code",
   "execution_count": 7,
   "metadata": {
    "id": "LIZt-JsncSoa"
   },
   "outputs": [],
   "source": [
    "def count_words(texts, vocabulary):\n",
    "    # Initialize the matrix\n",
    "    n_samples = len(texts)\n",
    "    n_features = len(vocabulary)\n",
    "    counts = np.zeros((n_samples, n_features))\n",
    "    for i, text in enumerate(texts):\n",
    "      for word in text.split():\n",
    "            if word in vocabulary:\n",
    "                word_index = vocabulary[word]\n",
    "                counts[i][word_index] += 1\n",
    "    return counts"
   ]
  },
  {
   "cell_type": "code",
   "execution_count": 8,
   "metadata": {
    "colab": {
     "base_uri": "https://localhost:8080/"
    },
    "id": "avmfs7QCcSob",
    "outputId": "5d78557a-8efb-45f2-c60f-2bd66a2e41eb"
   },
   "outputs": [
    {
     "name": "stdout",
     "output_type": "stream",
     "text": [
      "[[2. 1. 1. 1. 1. 0. 0. 0. 0. 0.]\n",
      " [1. 1. 1. 1. 0. 1. 0. 0. 0. 0.]\n",
      " [1. 1. 1. 0. 1. 0. 0. 1. 0. 0.]\n",
      " [1. 1. 1. 0. 0. 0. 1. 0. 1. 0.]\n",
      " [1. 2. 1. 0. 0. 1. 1. 0. 0. 0.]]\n"
     ]
    }
   ],
   "source": [
    "X = count_words(corpus, voc)\n",
    "print(X)"
   ]
  },
  {
   "cell_type": "markdown",
   "metadata": {
    "id": "5ZxzIQ0rcSoc"
   },
   "source": [
    "### I.2 Improving representations: by reweighting and filtering\n",
    "\n",
    "Mainly, the arguments of the class ```vectorizer``` will allow us to easily change the way our textual data is represented. Let us try to work on our *Bag-of-words* representations:\n",
    "   \n",
    "#### Do not take into account words that are too frequent:\n",
    "\n",
    "You can use the argument ```max_df=1.0``` to change the amount of words taken into account.\n",
    "\n",
    "#### Try different granularities:\n",
    "\n",
    "Rather than just counting words, we can count sequences of words - limited in size, of course.\n",
    "We call a sequence of $n$ words a $n$-gram: let's try using 2 and 3-grams (bi- and trigrams).\n",
    "We can also try to use character sequences instead of word sequences.\n",
    "\n",
    "We will be interested in the options ```analyze='word'``` and ```ngram_range=(1, 2)``` which we'll change to alter the granularity.\n",
    "\n",
    "**Again: using these ways of getting more features from our text will probably have more impact if we do not have much training data to begin with !**"
   ]
  },
  {
   "cell_type": "code",
   "execution_count": 9,
   "metadata": {
    "colab": {
     "base_uri": "https://localhost:8080/"
    },
    "id": "u8pxbq_vcSod",
    "outputId": "241e8a18-df09-4355-8545-4c64b5e78dbd"
   },
   "outputs": [
    {
     "name": "stdout",
     "output_type": "stream",
     "text": [
      "['down down' 'down down the' 'down the' 'down the avenue'\n",
      " 'down the boulevard' 'down the city' 'down the the' 'ran down'\n",
      " 'ran down the' 'the avenue' 'the boulevard' 'the city' 'the the'\n",
      " 'the the avenue' 'walk down' 'walk down the' 'walked down'\n",
      " 'walked down down' 'walked down the']\n"
     ]
    },
    {
     "data": {
      "text/plain": [
       "array([[1, 1, 1, 0, 1, 0, 0, 0, 0, 0, 1, 0, 0, 0, 0, 0, 1, 1, 0],\n",
       "       [0, 0, 1, 1, 0, 0, 0, 0, 0, 1, 0, 0, 0, 0, 0, 0, 1, 0, 1],\n",
       "       [0, 0, 1, 0, 1, 0, 0, 1, 1, 0, 1, 0, 0, 0, 0, 0, 0, 0, 0],\n",
       "       [0, 0, 1, 0, 0, 1, 0, 0, 0, 0, 0, 1, 0, 0, 1, 1, 0, 0, 0],\n",
       "       [0, 0, 1, 0, 0, 0, 1, 0, 0, 1, 0, 0, 1, 1, 1, 1, 0, 0, 0]])"
      ]
     },
     "execution_count": 9,
     "metadata": {},
     "output_type": "execute_result"
    }
   ],
   "source": [
    "# Example\n",
    "vectorizer_ex = CountVectorizer(max_features=30000, analyzer='word', ngram_range=(2, 3), stop_words=None)\n",
    "Bow_ex = vectorizer_ex.fit_transform(corpus)\n",
    "print(vectorizer_ex.get_feature_names_out())\n",
    "Bow_ex.toarray()"
   ]
  },
  {
   "cell_type": "markdown",
   "metadata": {
    "id": "-q3b4HnHcSod"
   },
   "source": [
    "#### Tf-idf:\n",
    "\n",
    "This is the product of the frequency of the term (TF) and its inverse frequency in documents (IDF).\n",
    "This method is usually used to measure the importance of a term $i$ in a document $j$ relative to the rest of the corpus, from a matrix of occurrences $ words \\times documents$. Thus, for a matrix $\\mathbf{T}$ of $|V|$ terms and $D$ documents:\n",
    "$$\\text{TF}(T, w, d) = \\frac{T_{w,d}}{\\sum_{w'=1}^{|V|} T_{w',d}} $$\n",
    "\n",
    "$$\\text{IDF}(T, w) = \\log\\left(\\frac{D}{|\\{d : T_{w,d} > 0\\}|}\\right)$$\n",
    "\n",
    "$$\\text{TF-IDF}(T, w, d) = \\text{TF}(X, w, d) \\cdot \\text{IDF}(T, w)$$\n",
    "\n",
    "It can be adapted to our case by considering that the context of the second word is the document. However, TF-IDF is generally better suited to low-density matrices, since it will penalize terms that appear in a large part of the documents."
   ]
  },
  {
   "cell_type": "code",
   "execution_count": 10,
   "metadata": {
    "id": "4bzfxB4kcSoe"
   },
   "outputs": [],
   "source": [
    "from sklearn.preprocessing import normalize\n",
    "\n",
    "def tfidf(bow):\n",
    "    \"\"\"\n",
    "    Inverse document frequencies applied to our bag-of-words representations\n",
    "    \"\"\"\n",
    "    # IDF\n",
    "    d = float(bow.shape[0]) + 1.0\n",
    "    in_doc = bow.astype(bool).sum(axis=0) + 1.0\n",
    "    idfs = np.log(d / in_doc) + 1.0\n",
    "    # TF\n",
    "    sum_vec = bow.sum(axis=1)\n",
    "    tfs = bow / np.expand_dims(sum_vec + 1.0, axis=1)\n",
    "    tf_idf = tfs * np.expand_dims(idfs,axis=0)\n",
    "    return tf_idf"
   ]
  },
  {
   "cell_type": "code",
   "execution_count": 11,
   "metadata": {
    "colab": {
     "base_uri": "https://localhost:8080/"
    },
    "id": "3t_2k0LNcSof",
    "outputId": "6a103ae6-1eb1-423a-bec9-5e87ffe87a6a"
   },
   "outputs": [
    {
     "name": "stdout",
     "output_type": "stream",
     "text": [
      "[[0.         0.2821912  0.         0.33333333 0.         0.16666667\n",
      "  0.         0.2821912 ]\n",
      " [0.33862944 0.         0.         0.2        0.         0.2\n",
      "  0.         0.33862944]\n",
      " [0.         0.33862944 0.         0.2        0.41972246 0.2\n",
      "  0.         0.        ]\n",
      " [0.         0.         0.41972246 0.2        0.         0.2\n",
      "  0.33862944 0.        ]\n",
      " [0.2821912  0.         0.         0.16666667 0.         0.33333333\n",
      "  0.2821912  0.        ]]\n"
     ]
    }
   ],
   "source": [
    "print(tfidf(Bow.toarray()))"
   ]
  },
  {
   "cell_type": "code",
   "execution_count": 12,
   "metadata": {
    "id": "PH-j4sUocSoh"
   },
   "outputs": [],
   "source": [
    "from sklearn.feature_extraction.text import TfidfTransformer"
   ]
  },
  {
   "cell_type": "code",
   "execution_count": 13,
   "metadata": {
    "colab": {
     "base_uri": "https://localhost:8080/"
    },
    "id": "y_Zh2qgscSoi",
    "outputId": "cf617384-7ed7-4b75-9dfe-a9f64d07ce56"
   },
   "outputs": [
    {
     "name": "stdout",
     "output_type": "stream",
     "text": [
      "['avenue' 'boulevard' 'city' 'down' 'ran' 'the' 'walk' 'walked']\n"
     ]
    },
    {
     "data": {
      "text/plain": [
       "array([[0.        , 0.51680194, 0.        , 0.61046311, 0.        ,\n",
       "        0.30523155, 0.        , 0.51680194],\n",
       "       [0.6088451 , 0.        , 0.        , 0.35959372, 0.        ,\n",
       "        0.35959372, 0.        , 0.6088451 ],\n",
       "       [0.        , 0.55607488, 0.        , 0.32842678, 0.68924048,\n",
       "        0.32842678, 0.        , 0.        ],\n",
       "       [0.        , 0.        , 0.68924048, 0.32842678, 0.        ,\n",
       "        0.32842678, 0.55607488, 0.        ],\n",
       "       [0.51680194, 0.        , 0.        , 0.30523155, 0.        ,\n",
       "        0.61046311, 0.51680194, 0.        ]])"
      ]
     },
     "execution_count": 13,
     "metadata": {},
     "output_type": "execute_result"
    }
   ],
   "source": [
    "tfidfer = TfidfTransformer()\n",
    "TfIdfBow = tfidfer.fit_transform(Bow)\n",
    "print(vectorizer.get_feature_names_out())\n",
    "TfIdfBow.toarray()"
   ]
  },
  {
   "cell_type": "markdown",
   "metadata": {
    "id": "PI1hbePBcSoj"
   },
   "source": [
    "## II IMDB Data - Sentiment on movie reviews\n",
    "\n",
    "You can download the dataset from this address: http://ai.stanford.edu/~amaas/data/sentiment/aclImdb_v1.tar.gz\n",
    "\n",
    "### Loading data\n",
    "\n",
    "We retrieve the textual data in the variable *texts*.\n",
    "\n",
    "The labels are retrieved in the variable $y$ - it contains *len(texts)* of them: $0$ indicates that the corresponding review is negative while $1$ indicates that it is positive."
   ]
  },
  {
   "cell_type": "code",
   "execution_count": 14,
   "metadata": {
    "id": "bytOJKH3cSok"
   },
   "outputs": [
    {
     "name": "stdout",
     "output_type": "stream",
     "text": [
      "There are 25000 texts in total\n"
     ]
    }
   ],
   "source": [
    "from glob import glob\n",
    "\n",
    "\n",
    "# We get the files from the path: ./aclImdb/train/neg for negative reviews, and ./aclImdb/train/pos for positive reviews\n",
    "train_filenames_neg = sorted(glob(op.join('.', 'aclImdb', 'train', 'neg', '*.txt')))\n",
    "train_filenames_pos = sorted(glob(op.join('.', 'aclImdb', 'train', 'pos', '*.txt')))\n",
    "\n",
    "# Each files contains a review that consists in one line of text: we put this string in two lists, that we concatenate\n",
    "train_texts_neg = [open(f, encoding=\"utf8\").read() for f in train_filenames_neg]\n",
    "train_texts_pos = [open(f, encoding=\"utf8\").read() for f in train_filenames_pos]\n",
    "train_texts = train_texts_neg + train_texts_pos\n",
    "print(f\"There are {len(train_texts)} texts in total\")\n",
    "\n",
    "\n",
    "train_texts_labels = np.array([0] * 12500 + [1] * 12500)\n"
   ]
  },
  {
   "cell_type": "code",
   "execution_count": 15,
   "metadata": {},
   "outputs": [
    {
     "name": "stdout",
     "output_type": "stream",
     "text": [
      "<class 'list'>\n"
     ]
    }
   ],
   "source": [
    "print(type(train_texts))"
   ]
  },
  {
   "cell_type": "code",
   "execution_count": 16,
   "metadata": {
    "id": "XoZ5zcDncSom",
    "outputId": "46a64398-624a-4ecd-b294-2b75636345a7",
    "scrolled": true
   },
   "outputs": [
    {
     "data": {
      "text/plain": [
       "\"Story of a man who has unnatural feelings for a pig. Starts out with a opening scene that is a terrific example of absurd comedy. A formal orchestra audience is turned into an insane, violent mob by the crazy chantings of it's singers. Unfortunately it stays absurd the WHOLE time with no general narrative eventually making it just too off putting. Even those from the era should be turned off. The cryptic dialogue would make Shakespeare seem easy to a third grader. On a technical level it's better than you might think with some good cinematography by future great Vilmos Zsigmond. Future stars Sally Kirkland and Frederic Forrest can be seen briefly.\""
      ]
     },
     "execution_count": 16,
     "metadata": {},
     "output_type": "execute_result"
    }
   ],
   "source": [
    "open(\"./aclImdb/train/neg/0_3.txt\", encoding=\"utf8\").read()"
   ]
  },
  {
   "cell_type": "code",
   "execution_count": 17,
   "metadata": {
    "id": "pYRYb4C7cSon",
    "outputId": "936502ea-909d-4511-b54f-e829b850c234"
   },
   "outputs": [
    {
     "name": "stdout",
     "output_type": "stream",
     "text": [
      "Number of documents: 2500\n"
     ]
    }
   ],
   "source": [
    "# This number of documents may be high for most computers: we can select a fraction of them (here, one in k)\n",
    "# Use an even number to keep the same number of positive and negative reviews\n",
    "k = 10\n",
    "train_texts_reduced = train_texts[0::k]\n",
    "train_texts_reduced_labels = train_texts_labels[0::k]\n",
    "\n",
    "print('Number of documents:', len(train_texts_reduced))"
   ]
  },
  {
   "cell_type": "markdown",
   "metadata": {
    "id": "ADl2WDJdcSon"
   },
   "source": [
    "**When training a machine learning model**, we can use a function from ```sklearn```, ```train_test_split```, to separate data into training and validation sets:"
   ]
  },
  {
   "cell_type": "code",
   "execution_count": 18,
   "metadata": {
    "id": "PRISIqpCcSoo"
   },
   "outputs": [],
   "source": [
    "import sklearn\n",
    "from sklearn.model_selection import train_test_split"
   ]
  },
  {
   "cell_type": "code",
   "execution_count": 19,
   "metadata": {
    "id": "TDSkDR-8cSoo"
   },
   "outputs": [],
   "source": [
    "training_data, validation_data, labels_training, labels_validation = sklearn.model_selection.train_test_split(train_texts_reduced, train_texts_reduced_labels)"
   ]
  },
  {
   "cell_type": "markdown",
   "metadata": {
    "id": "4dA2zAfLcSop"
   },
   "source": [
    "Use your function ```count_words``` to transform training and validation data into vectors. Do the same with a ```CountVectorizer```: create and fit the vectorizer to the training data, re-use it on validation data."
   ]
  },
  {
   "cell_type": "code",
   "execution_count": 20,
   "metadata": {
    "id": "oc4HXc81cSop"
   },
   "outputs": [
    {
     "name": "stdout",
     "output_type": "stream",
     "text": [
      "[[ 2.  2.  2. ...  0.  0.  0.]\n",
      " [12.  7.  9. ...  0.  0.  0.]\n",
      " [ 9.  5.  6. ...  0.  0.  0.]\n",
      " ...\n",
      " [ 7.  3.  4. ...  0.  0.  0.]\n",
      " [ 7.  3.  4. ...  0.  0.  0.]\n",
      " [17. 12.  7. ...  1.  1.  0.]]\n",
      "=================================\n",
      "[[13.  3.  7. ...  0.  0.  0.]\n",
      " [ 9.  4.  4. ...  0.  0.  0.]\n",
      " [ 2.  3.  2. ...  0.  0.  0.]\n",
      " ...\n",
      " [ 7.  3.  8. ...  0.  0.  0.]\n",
      " [ 5.  0.  3. ...  0.  0.  0.]\n",
      " [15. 10.  3. ...  0.  0.  0.]]\n"
     ]
    }
   ],
   "source": [
    "training_voc, _ = vocabulary(training_data)\n",
    "cw_training = count_words(training_data, training_voc)\n",
    "\n",
    "cw_validation = count_words(validation_data, training_voc) #use training_voc bc in the real world we would have to\n",
    "    #also permits the later model to work by having the same number of features on the fit and the predict\n",
    "\n",
    "\n",
    "print(cw_training)\n",
    "print(\"=================================\")\n",
    "print(cw_validation)"
   ]
  },
  {
   "cell_type": "code",
   "execution_count": 21,
   "metadata": {
    "id": "VU64d4J4cSop"
   },
   "outputs": [],
   "source": [
    "vectorizer = CountVectorizer()\n",
    "\n",
    "CVtraining = vectorizer.fit_transform(training_data)\n",
    "CVvalidation = vectorizer.transform(validation_data)"
   ]
  },
  {
   "cell_type": "code",
   "execution_count": 22,
   "metadata": {},
   "outputs": [
    {
     "name": "stdout",
     "output_type": "stream",
     "text": [
      "  (0, 241)\t1\n",
      "  (0, 885)\t1\n",
      "  (0, 1070)\t9\n",
      "  (0, 1574)\t2\n",
      "  (0, 1811)\t1\n",
      "  (0, 1954)\t2\n",
      "  (0, 2145)\t1\n",
      "  (0, 2306)\t1\n",
      "  (0, 2840)\t1\n",
      "  (0, 2849)\t6\n",
      "  (0, 3158)\t1\n",
      "  (0, 3793)\t1\n",
      "  (0, 4073)\t1\n",
      "  (0, 4207)\t1\n",
      "  (0, 4288)\t1\n",
      "  (0, 5056)\t1\n",
      "  (0, 5640)\t1\n",
      "  (0, 6160)\t2\n",
      "  (0, 6575)\t1\n",
      "  (0, 6975)\t1\n",
      "  (0, 6983)\t1\n",
      "  (0, 7467)\t1\n",
      "  (0, 7485)\t1\n",
      "  (0, 8414)\t2\n",
      "  (0, 8428)\t1\n",
      "  :\t:\n",
      "  (624, 22380)\t9\n",
      "  (624, 22398)\t1\n",
      "  (624, 22440)\t1\n",
      "  (624, 22451)\t1\n",
      "  (624, 22739)\t1\n",
      "  (624, 22882)\t1\n",
      "  (624, 23277)\t1\n",
      "  (624, 23400)\t1\n",
      "  (624, 23421)\t1\n",
      "  (624, 23452)\t1\n",
      "  (624, 23467)\t1\n",
      "  (624, 23578)\t1\n",
      "  (624, 23694)\t1\n",
      "  (624, 23784)\t1\n",
      "  (624, 23989)\t6\n",
      "  (624, 24176)\t1\n",
      "  (624, 24187)\t1\n",
      "  (624, 24221)\t1\n",
      "  (624, 24226)\t1\n",
      "  (624, 24283)\t1\n",
      "  (624, 24364)\t1\n",
      "  (624, 24375)\t3\n",
      "  (624, 24458)\t1\n",
      "  (624, 24498)\t1\n",
      "  (624, 24654)\t1\n"
     ]
    }
   ],
   "source": [
    "print(CVvalidation)"
   ]
  },
  {
   "cell_type": "markdown",
   "metadata": {
    "id": "NC9XzloncSop"
   },
   "source": [
    "We are going to use the scikit-learn ```MultinomialNB```, an implementation of the Naive Bayesian model. Experiment on this model with your own representations. Visualize the results with the following tools, and compare with the representations of ```CountVectorizer```:"
   ]
  },
  {
   "cell_type": "code",
   "execution_count": 23,
   "metadata": {
    "id": "fDlZUquscSoq"
   },
   "outputs": [
    {
     "name": "stdout",
     "output_type": "stream",
     "text": [
      "Accuracy: 0.7632\n",
      "              precision    recall  f1-score   support\n",
      "\n",
      "           0       0.74      0.80      0.77       312\n",
      "           1       0.79      0.73      0.75       313\n",
      "\n",
      "    accuracy                           0.76       625\n",
      "   macro avg       0.76      0.76      0.76       625\n",
      "weighted avg       0.76      0.76      0.76       625\n",
      "\n",
      "[[250  62]\n",
      " [ 86 227]]\n"
     ]
    },
    {
     "data": {
      "text/plain": [
       "<sklearn.metrics._plot.confusion_matrix.ConfusionMatrixDisplay at 0x11f678f90>"
      ]
     },
     "execution_count": 23,
     "metadata": {},
     "output_type": "execute_result"
    },
    {
     "data": {
      "image/png": "[encoded data removed]",
      "text/plain": [
       "<Figure size 640x480 with 2 Axes>"
      ]
     },
     "metadata": {},
     "output_type": "display_data"
    }
   ],
   "source": [
    "from sklearn.naive_bayes import MultinomialNB\n",
    "from sklearn.metrics import accuracy_score\n",
    "\n",
    "#using my count_words vectors to compare with the CountVectorizer\n",
    "MNB = MultinomialNB()\n",
    "MNB.fit(cw_training, labels_training)\n",
    "y_pred = MNB.predict(cw_validation)\n",
    "\n",
    "accuracy = accuracy_score(labels_validation, y_pred)\n",
    "\n",
    "print(\"Accuracy:\", accuracy)\n",
    "\n",
    "from sklearn.metrics import confusion_matrix, ConfusionMatrixDisplay, classification_report\n",
    "\n",
    "print(classification_report(labels_validation, y_pred))\n",
    "cm = confusion_matrix(labels_validation, y_pred)\n",
    "print(cm)\n",
    "disp = ConfusionMatrixDisplay(confusion_matrix=cm)\n",
    "disp.plot()"
   ]
  },
  {
   "cell_type": "code",
   "execution_count": 24,
   "metadata": {},
   "outputs": [
    {
     "name": "stdout",
     "output_type": "stream",
     "text": [
      "Accuracy: 0.7728\n",
      "              precision    recall  f1-score   support\n",
      "\n",
      "           0       0.75      0.81      0.78       312\n",
      "           1       0.79      0.74      0.76       313\n",
      "\n",
      "    accuracy                           0.77       625\n",
      "   macro avg       0.77      0.77      0.77       625\n",
      "weighted avg       0.77      0.77      0.77       625\n",
      "\n"
     ]
    },
    {
     "data": {
      "text/plain": [
       "<sklearn.metrics._plot.confusion_matrix.ConfusionMatrixDisplay at 0x11fd25890>"
      ]
     },
     "execution_count": 24,
     "metadata": {},
     "output_type": "execute_result"
    },
    {
     "data": {
      "image/png": "[encoded data removed]",
      "text/plain": [
       "<Figure size 640x480 with 2 Axes>"
      ]
     },
     "metadata": {},
     "output_type": "display_data"
    }
   ],
   "source": [
    "#using CountVectorizer to compare with above results from my count_words vectors\n",
    "\n",
    "MNBCV = MultinomialNB()\n",
    "MNBCV.fit(CVtraining, labels_training)\n",
    "y_pred = MNBCV.predict(CVvalidation)\n",
    "\n",
    "accuracy = accuracy_score(labels_validation, y_pred)\n",
    "\n",
    "print(\"Accuracy:\", accuracy)\n",
    "\n",
    "from sklearn.metrics import confusion_matrix, ConfusionMatrixDisplay, classification_report\n",
    "\n",
    "print(classification_report(labels_validation, y_pred))\n",
    "cm = confusion_matrix(labels_validation, y_pred)\n",
    "disp = ConfusionMatrixDisplay(confusion_matrix=cm)\n",
    "disp.plot()"
   ]
  },
  {
   "cell_type": "markdown",
   "metadata": {
    "id": "lVs1m4u4cSoq"
   },
   "source": [
    "- Here, what is the naïve hypothesis ?\n",
    "- Let us look at the *features* built by the ```vectorizer```. How can we improve them ?"
   ]
  },
  {
   "cell_type": "code",
   "execution_count": 25,
   "metadata": {},
   "outputs": [
    {
     "name": "stdout",
     "output_type": "stream",
     "text": [
      "['00' '000' '00001' '007' '0079' '0080' '0083' '01' '02' '05' '08' '09'\n",
      " '10' '100' '1000' '1000000' '100m' '101' '102' '103' '105' '10mil' '10th'\n",
      " '11' '110' '112' '12' '120' '1200f' '123' '125' '12s' '12th' '13' '130'\n",
      " '13th' '14' '145' '147' '14ieme' '15' '150' '16' '161' '1692' '16th' '17'\n",
      " '1700' '1794' '1798' '17th' '18' '180' '1800' '1814' '1824' '1840' '1850'\n",
      " '1864' '1880' '1880s' '1892' '1895' '1897' '18th' '19' '1911' '1912'\n",
      " '1914' '1916' '1919' '1920' '1920s' '1921' '1922' '1924' '1927' '1928'\n",
      " '1929' '1930' '1930s' '1931' '1932' '1933' '1934' '1936' '1937' '1938'\n",
      " '1939' '1940' '1940s' '1941' '1942' '1943' '1944' '1945' '1946' '1947'\n",
      " '1948' '1949' '1950' '1950s' '1951' '1952' '1953' '1954' '1955' '1956'\n",
      " '1957' '1958' '1959' '1960' '1960s' '1962' '1963' '1964' '1965' '1966'\n",
      " '1967' '1968' '1969' '1970' '1970s' '1971' '1972' '1973' '1974' '1975'\n",
      " '1976' '1977' '1978' '1979' '1980' '1980s' '1981' '1982' '1983' '1984'\n",
      " '1985' '1986' '1987' '1988' '1989' '1990' '1990s' '1991' '1992' '1993'\n",
      " '1994' '1995' '1996' '1997' '1998' '1999' '19th' '1hour' '1s' '1st' '1½'\n",
      " '20' '200' '2000' '2000s' '2001' '2002' '2004' '2005' '2006' '2007'\n",
      " '2008' '2009' '2010' '2012' '2017' '2031' '2047' '2050' '20s' '20th'\n",
      " '20yrs' '21' '21849889' '21849890' '21849907' '21st' '22' '230mph' '236'\n",
      " '24' '241' '25' '250' '26' '2600' '269' '27' '27x41' '28' '29' '2d'\n",
      " '2hrs' '2nd' '2point4' '30' '300' '3000' '30k' '30min' '30pm' '30s'\n",
      " '30th' '32' '33' '34' '34th' '35' '350' '35mm' '36' '360' '37' '372'\n",
      " '38k' '39' '3d' '3rd' '40' '400' '40s' '42nd' '43' '44' '45' '45am' '47'\n",
      " '48' '49' '4m' '4th' '4w' '4x' '50' '500' '5000' '50ish' '50s' '50th'\n",
      " '51' '51st' '52' '54' '55' '56' '57' '58' '59' '5th' '60' '60ies' '60s'\n",
      " '60ties' '61' '62' '63' '65' '66' '666' '67' '67th' '68' '69' '6th' '70'\n",
      " '700' '701' '707' '70ies' '70mm' '70s' '70th' '71' '713' '73' '74' '75'\n",
      " '750' '76' '77' '79' '7th' '80' '800' '80s' '81' '83' '84' '85' '86' '87'\n",
      " '87minutes' '88' '89' '8mm' '8o' '8th' '90' '90min' '90s' '911' '92'\n",
      " '92nd' '93' '94' '95' '97' '98' '99' '998' '999' '99p' '9lbs' '9th'\n",
      " '_________' '____________________________________' '_earned_' 'aaaand'\n",
      " 'aage' 'aaip' 'aankhen' 'aardman' 'aaron' 'aatish' 'aavjo' 'aback'\n",
      " 'abandon' 'abandoned' 'abandonment' 'abandons' 'abbas' 'abbot' 'abbott'\n",
      " 'abby' 'abc' 'abduction' 'abdullah' 'abe' 'abel' 'aberration' 'abetted'\n",
      " 'abhay' 'abhor' 'abhorrent' 'abide' 'abigail' 'abilities' 'ability'\n",
      " 'abilityof' 'abkani' 'able' 'ably' 'abnormally' 'abo' 'aboard'\n",
      " 'abolition' 'abolitionism' 'abominable' 'abomination' 'aboriginals'\n",
      " 'aborigine' 'aborigines' 'aboriginies' 'aborigone' 'abort' 'aborted'\n",
      " 'abortion' 'abortions' 'aborts' 'abound' 'about' 'above' 'abraham'\n",
      " 'abrahams' 'abrams' 'abrasive' 'abroad' 'abrupt' 'abruptly' 'abs'\n",
      " 'absence' 'absent' 'absolute' 'absolutely' 'absolution' 'absorbed'\n",
      " 'absorbing' 'abstract' 'absurd' 'absurder' 'absurdity' 'absurdly'\n",
      " 'absurdness' 'abu' 'abundance' 'abundant' 'abundantly' 'abuse' 'abused'\n",
      " 'abuses' 'abusing' 'abusive' 'abut' 'abysmal' 'abysmally' 'abyss'\n",
      " 'abyssmal' 'ac' 'acadamy' 'academic' 'academy' 'acapella' 'accelerated'\n",
      " 'acceleration' 'accent' 'accents' 'accentuate' 'accentuated' 'accept'\n",
      " 'acceptable' 'acceptance' 'acceptation' 'accepted' 'accepting' 'accepts'\n",
      " 'access' 'accessible' 'accessory' 'accidence' 'accident' 'accidental'\n",
      " 'accidentally' 'accidently' 'accidents' 'acclaim' 'acclaimed' 'accolade'\n",
      " 'accolades' 'accommodate' 'accommodation' 'accompanied' 'accompaniment'\n",
      " 'accompany' 'accompanying' 'accomplice' 'accomplish' 'accomplished'\n",
      " 'accomplishes' 'accomplishment' 'accordian' 'according' 'accordingly'\n",
      " 'account' 'accountability' 'accountable' 'accountant' 'accountants'\n",
      " 'accounting' 'accounts' 'accumulate' 'accuracy' 'accurate' 'accurately'\n",
      " 'accusations' 'accused' 'accusers' 'accuses' 'accustomed' 'ace' 'acedemy'\n",
      " 'acerbic' 'acharya' 'ache' 'achievable' 'achieve' 'achieved'\n",
      " 'achievement' 'achievements' 'achiever' 'achieves' 'achieving' 'achilles'\n",
      " 'achingly' 'acid' 'acidently' 'ackland' 'acknowledge' 'acknowledged'\n",
      " 'acknowledges' 'acknowledgment' 'acme' 'acorn' 'acquaintance'\n",
      " 'acquaintances' 'acquainted' 'acquart' 'acquire' 'acquired' 'acquits'\n",
      " 'acquitted' 'acrid' 'acronym' 'acropolis' 'across' 'act' 'acted' 'acting'\n",
      " 'action' 'actioner' 'actions' 'actionscenes' 'activate' 'active'\n",
      " 'activists' 'activities' 'activity' 'actor' 'actors' 'actress'\n",
      " 'actresses' 'acts' 'actual' 'actuality' 'actually' 'acuity' 'acurately'\n",
      " 'acutely' 'ad' 'adam' 'adama' 'adams' 'adamson' 'adapt' 'adaptable'\n",
      " 'adaptation' 'adaptations' 'adapted' 'adapting' 'adaption' 'adaptions'\n",
      " 'adapts' 'add' 'addams' 'added' 'addict' 'addicted' 'addiction'\n",
      " 'addictive' 'adding' 'addition' 'additional' 'additionally' 'additions'\n",
      " 'address' 'addressed' 'addresses' 'addressing' 'adds' 'addy' 'adele'\n",
      " 'adequate' 'adequately' 'adhere' 'adherence' 'aditya' 'adjective'\n",
      " 'adjust' 'adjusted' 'administration' 'administrations' 'admirable'\n",
      " 'admirably' 'admiral' 'admiration' 'admire' 'admired' 'admirer'\n",
      " 'admirers' 'admires' 'admiring' 'admission' 'admit' 'admits' 'admitted'\n",
      " 'admittedly' 'admitting' 'adnausem' 'ado' 'adolescent' 'adolescents'\n",
      " 'adolfo' 'adone']\n"
     ]
    }
   ],
   "source": [
    "print(vectorizer.get_feature_names_out()[:600])"
   ]
  },
  {
   "cell_type": "markdown",
   "metadata": {},
   "source": [
    "**Answer:**\n",
    "\n",
    "I think that the naive hypothesis is that words are looked at as positive or negative and having only one meaning. The context around a word can change its meaning however. If a word has a positive meaning but is used in a different context in negative documents it can affect the way the model makes its predictions by associating a positive word with negativity. For example, in the text sampled in neg/0_3.txt, the word terrific appears, which is a positive word generally, however the context is used to show negativity, thus associating a positive word with negative meaning. If this is prevalent throughout the training data, then the assumption that words have one meaning would cause the model to associate words that are positive often in the test data but negative in the training data with negativity, and this would affect the accuracy of the prediction as the prediction would be negative when in fact it should be positive.\n",
    "\n",
    "From analyzing the features of vectorizer, I believe that in order to improve them the best path would be to ignore parts of each text used to categorize them as positive or negative. Based on what I have seen in this case if the texts were filtered to remove words that are ambiguous it might have a positive effect on the results of vectorizer, as certain words change between positive and negative meaning and can create a bias in the model as I explained in the naive hypothesis."
   ]
  },
  {
   "cell_type": "markdown",
   "metadata": {
    "id": "7UnCXl8gcSor"
   },
   "source": [
    "Finally, re-do the experiments with the **tf-idf** representations !"
   ]
  },
  {
   "cell_type": "code",
   "execution_count": 26,
   "metadata": {},
   "outputs": [
    {
     "name": "stdout",
     "output_type": "stream",
     "text": [
      "Accuracy: 0.7792\n",
      "              precision    recall  f1-score   support\n",
      "\n",
      "           0       0.73      0.89      0.80       312\n",
      "           1       0.86      0.66      0.75       313\n",
      "\n",
      "    accuracy                           0.78       625\n",
      "   macro avg       0.79      0.78      0.78       625\n",
      "weighted avg       0.79      0.78      0.78       625\n",
      "\n"
     ]
    },
    {
     "data": {
      "text/plain": [
       "<sklearn.metrics._plot.confusion_matrix.ConfusionMatrixDisplay at 0x11f1e4710>"
      ]
     },
     "execution_count": 26,
     "metadata": {},
     "output_type": "execute_result"
    },
    {
     "data": {
      "image/png": "[encoded data removed]",
      "text/plain": [
       "<Figure size 640x480 with 2 Axes>"
      ]
     },
     "metadata": {},
     "output_type": "display_data"
    }
   ],
   "source": [
    "#using my count_words vectors to compare with the CountVectorizer\n",
    "\n",
    "tfidfer = TfidfTransformer()\n",
    "tfidfTrain = tfidfer.fit_transform(cw_training)\n",
    "tfidfValidation= tfidfer.transform(cw_validation)\n",
    "\n",
    "mnb = MultinomialNB()\n",
    "mnb.fit(tfidfTrain, labels_training)\n",
    "y_pred = mnb.predict(tfidfValidation)\n",
    "\n",
    "\n",
    "accuracy = accuracy_score(labels_validation, y_pred)\n",
    "print(\"Accuracy:\", accuracy)\n",
    "\n",
    "print(classification_report(labels_validation, y_pred))\n",
    "cm = confusion_matrix(labels_validation, y_pred)\n",
    "disp = ConfusionMatrixDisplay(confusion_matrix=cm) \n",
    "disp.plot()"
   ]
  },
  {
   "cell_type": "code",
   "execution_count": 27,
   "metadata": {},
   "outputs": [
    {
     "name": "stdout",
     "output_type": "stream",
     "text": [
      "Accuracy: 0.784\n",
      "              precision    recall  f1-score   support\n",
      "\n",
      "           0       0.73      0.89      0.80       312\n",
      "           1       0.86      0.68      0.76       313\n",
      "\n",
      "    accuracy                           0.78       625\n",
      "   macro avg       0.80      0.78      0.78       625\n",
      "weighted avg       0.80      0.78      0.78       625\n",
      "\n"
     ]
    },
    {
     "data": {
      "text/plain": [
       "<sklearn.metrics._plot.confusion_matrix.ConfusionMatrixDisplay at 0x11fedd7d0>"
      ]
     },
     "execution_count": 27,
     "metadata": {},
     "output_type": "execute_result"
    },
    {
     "data": {
      "image/png": "[encoded data removed]",
      "text/plain": [
       "<Figure size 640x480 with 2 Axes>"
      ]
     },
     "metadata": {},
     "output_type": "display_data"
    }
   ],
   "source": [
    "#using CountVectorizer to compare with results of my count_words vectors\n",
    "\n",
    "tfidferCV = TfidfTransformer()\n",
    "tfidfTrainCV = tfidferCV.fit_transform(CVtraining)\n",
    "tfidfValidationCV= tfidferCV.transform(CVvalidation)\n",
    "\n",
    "mnbCV = MultinomialNB()\n",
    "mnbCV.fit(tfidfTrainCV, labels_training)\n",
    "y_pred = mnbCV.predict(tfidfValidationCV)\n",
    "\n",
    "\n",
    "accuracy = accuracy_score(labels_validation, y_pred)\n",
    "print(\"Accuracy:\", accuracy)\n",
    "\n",
    "print(classification_report(labels_validation, y_pred))\n",
    "cm = confusion_matrix(labels_validation, y_pred)\n",
    "disp = ConfusionMatrixDisplay(confusion_matrix=cm) \n",
    "disp.plot()"
   ]
  },
  {
   "cell_type": "markdown",
   "metadata": {},
   "source": [
    "I ran everything multiple times, which often resulted in nearly the same accuracy score for with tfidf and without tfidf, with tfidf being slightly better. I expected tfidf to perform better since the data is sparse, but I expected it to be a larger difference than it was. There were a few occassions where tfidf performed worse, but they were uncommon. Additionally, using the vectors from CountVectorizer was more accurate than using the vectors from count_words most often."
   ]
  }
 ],
 "metadata": {
  "anaconda-cloud": {},
  "colab": {
   "provenance": []
  },
  "kernelspec": {
   "display_name": "Python 3 (ipykernel)",
   "language": "python",
   "name": "python3"
  },
  "language_info": {
   "codemirror_mode": {
    "name": "ipython",
    "version": 3
   },
   "file_extension": ".py",
   "mimetype": "text/x-python",
   "name": "python",
   "nbconvert_exporter": "python",
   "pygments_lexer": "ipython3",
   "version": "3.11.4"
  }
 },
 "nbformat": 4,
 "nbformat_minor": 1
}
